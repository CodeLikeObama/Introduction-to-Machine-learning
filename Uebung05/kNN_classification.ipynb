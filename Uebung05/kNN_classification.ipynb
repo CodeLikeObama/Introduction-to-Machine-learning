{
 "cells": [
  {
   "cell_type": "code",
   "execution_count": 202,
   "metadata": {},
   "outputs": [],
   "source": [
    "import pandas as pd\n",
    "import numpy as np\n",
    "\n",
    "from matplotlib import pyplot as plt\n",
    "\n",
    "# TODO:\n",
    "# Decide which methods, modules, classes from scikit learn do you need?\n",
    "\n",
    "from glob import glob"
   ]
  },
  {
   "cell_type": "code",
   "execution_count": null,
   "metadata": {},
   "outputs": [],
   "source": [
    "def load_iris_csv(file_path):\n",
    "    \"\"\"Loads a CSV file, assuming that the last column of the data is the target\n",
    "    variable. The previous columns are interpreted as features and extracted.\n",
    "    Returns a numpy array X with the features, a numpy array y with the corresponding\n",
    "    target variables, a list of feature column names, and a list of class labels\n",
    "    (all occurring target variables).\"\"\"\n",
    "\n",
    "    # TODO:\n",
    "    return X, y, feature_names, class_names"
   ]
  },
  {
   "cell_type": "code",
   "execution_count": null,
   "metadata": {},
   "outputs": [],
   "source": [
    "def kfold_crossval(classifier, X, y, k=10):\n",
    "    \"\"\"Evaluates a scikit-learn classifier using k-fold cross-validation. A\n",
    "    scikit-learn classifier is guaranteed to have the fit(X, y) and predict(X)\n",
    "    methods through its interface. The function receives a scikit-learn classifier,\n",
    "    a design (feature) matrix X, a vector of class labels y, and the number of\n",
    "    folds k, and returns the arithmetic mean of the validation errors and the\n",
    "    training errors.\"\"\"\n",
    "\n",
    "    # TODO:\n",
    "    # Estimate model performance for given classifier\n",
    "    # Evaluate on k-fold split the validation and train error\n",
    "    # HINT: we are working with classes and classification data\n",
    "    # What does this mean for the cross validation method?\n",
    "    # Return metric for model selection\n",
    "    return mean_val_loss, mean_train_loss"
   ]
  },
  {
   "cell_type": "code",
   "execution_count": 204,
   "metadata": {},
   "outputs": [],
   "source": [
    "def find_best_classifer_hyperparam(\n",
    "    X, y, classifier, hyperparam_name, hyperparam_values\n",
    "):\n",
    "    \"\"\"Performs a search for the optimal hyperparameters based on 10-fold cross-validation.\n",
    "    The function receives a design (feature) matrix X, a vector of class labels y, a scikit-learn\n",
    "    classifier classifier, the name hyperparam_name of the hyperparameter to be optimized, and a\n",
    "    list hyperparam_values with the values to be tested for the hyperparameter. The function\n",
    "    returns the classifier trained on the entire training dataset with the best hyperparameter\n",
    "    value and the best hyperparameter value.\"\"\"\n",
    "\n",
    "    # TODO:\n",
    "    # Run for different hyperparameters:\n",
    "    # Train model with given hyper parameter\n",
    "    # estimate performance with k-fold cross-validation\n",
    "    # Return best hyperparameter and model\n",
    "    return classifier, best_hyperparam"
   ]
  },
  {
   "cell_type": "code",
   "execution_count": null,
   "metadata": {},
   "outputs": [],
   "source": [
    "# Task 1:\n",
    "# TODO:\n",
    "# Load 2-D dataset\n",
    "# What about a test set?\n",
    "# Find best k for kNN model\n",
    "# Visualize test set predictions\n",
    "# prediction surfaces -> see scikit-learn documentation and exercise sheet"
   ]
  },
  {
   "cell_type": "code",
   "execution_count": null,
   "metadata": {},
   "outputs": [],
   "source": [
    "# Task 2:\n",
    "# TODO:\n",
    "# Load Datasets\n",
    "# For each dataset\n",
    "# what about a test set?\n",
    "# Finds best k for kNN model\n",
    "# report best accuracy\n",
    "# For each dataset\n",
    "# Try the same, but scale the data before"
   ]
  }
 ],
 "metadata": {
  "kernelspec": {
   "display_name": "mmpdb",
   "language": "python",
   "name": "python3"
  },
  "language_info": {
   "codemirror_mode": {
    "name": "ipython",
    "version": 3
   },
   "file_extension": ".py",
   "mimetype": "text/x-python",
   "name": "python",
   "nbconvert_exporter": "python",
   "pygments_lexer": "ipython3",
   "version": "3.9.16"
  },
  "orig_nbformat": 4
 },
 "nbformat": 4,
 "nbformat_minor": 2
}
